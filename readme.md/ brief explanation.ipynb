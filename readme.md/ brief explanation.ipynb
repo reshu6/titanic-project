{
 "cells": [
  {
   "cell_type": "markdown",
   "id": "d55d7734",
   "metadata": {},
   "source": [
    "# This project is EDA on Titanic data set\n",
    "\n",
    "In this project we may perform some features:\n",
    "\n",
    "frist download data,  \n",
    "next cleaning the data, \n",
    "we may perform feature engineering, \n",
    "data visualization.\n",
    "\n",
    "using the libraries\n",
    "1.numpy\n",
    "2.pandas\n",
    "3.matplotlib\n",
    "4.seaborn\n"
   ]
  }
 ],
 "metadata": {
  "kernelspec": {
   "display_name": "Python 3 (ipykernel)",
   "language": "python",
   "name": "python3"
  },
  "language_info": {
   "codemirror_mode": {
    "name": "ipython",
    "version": 3
   },
   "file_extension": ".py",
   "mimetype": "text/x-python",
   "name": "python",
   "nbconvert_exporter": "python",
   "pygments_lexer": "ipython3",
   "version": "3.9.7"
  }
 },
 "nbformat": 4,
 "nbformat_minor": 5
}
